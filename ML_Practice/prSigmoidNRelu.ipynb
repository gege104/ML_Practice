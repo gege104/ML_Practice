{
 "cells": [
  {
   "cell_type": "code",
   "execution_count": null,
   "id": "passive-ministry",
   "metadata": {},
   "outputs": [],
   "source": [
    "# sigmoid function"
   ]
  },
  {
   "cell_type": "code",
   "execution_count": 1,
   "id": "realistic-lincoln",
   "metadata": {},
   "outputs": [],
   "source": [
    "import numpy as np"
   ]
  },
  {
   "cell_type": "code",
   "execution_count": 2,
   "id": "ambient-electronics",
   "metadata": {},
   "outputs": [],
   "source": [
    "def sigmoid(x):\n",
    "    return 1/(1+np.exp(-x))"
   ]
  },
  {
   "cell_type": "code",
   "execution_count": 3,
   "id": "sublime-laser",
   "metadata": {},
   "outputs": [
    {
     "name": "stdout",
     "output_type": "stream",
     "text": [
      "sigmoid(-10):4.5397868702434395e-05\n",
      "sigmoid(-9):0.00012339457598623172\n",
      "sigmoid(-8):0.0003353501304664781\n",
      "sigmoid(-7):0.0009110511944006454\n",
      "sigmoid(-6):0.0024726231566347743\n",
      "sigmoid(-5):0.0066928509242848554\n",
      "sigmoid(-4):0.01798620996209156\n",
      "sigmoid(-3):0.04742587317756678\n",
      "sigmoid(-2):0.11920292202211755\n",
      "sigmoid(-1):0.2689414213699951\n",
      "sigmoid(0):0.5\n",
      "sigmoid(1):0.7310585786300049\n",
      "sigmoid(2):0.8807970779778823\n",
      "sigmoid(3):0.9525741268224334\n",
      "sigmoid(4):0.9820137900379085\n",
      "sigmoid(5):0.9933071490757153\n",
      "sigmoid(6):0.9975273768433653\n",
      "sigmoid(7):0.9990889488055994\n",
      "sigmoid(8):0.9996646498695336\n",
      "sigmoid(9):0.9998766054240137\n"
     ]
    }
   ],
   "source": [
    "for i in range(-10, 10, 1):\n",
    "    print('sigmoid({}):{}'.format(i, sigmoid(i)))"
   ]
  },
  {
   "cell_type": "code",
   "execution_count": null,
   "id": "noted-naples",
   "metadata": {},
   "outputs": [],
   "source": [
    "# ReLU function"
   ]
  },
  {
   "cell_type": "code",
   "execution_count": 4,
   "id": "hollywood-cooler",
   "metadata": {},
   "outputs": [],
   "source": [
    "def relu(x):\n",
    "    return max(0, x)"
   ]
  },
  {
   "cell_type": "code",
   "execution_count": 5,
   "id": "apart-population",
   "metadata": {},
   "outputs": [
    {
     "name": "stdout",
     "output_type": "stream",
     "text": [
      "relu(x):(-10):0\n",
      "relu(x):(-9):0\n",
      "relu(x):(-8):0\n",
      "relu(x):(-7):0\n",
      "relu(x):(-6):0\n",
      "relu(x):(-5):0\n",
      "relu(x):(-4):0\n",
      "relu(x):(-3):0\n",
      "relu(x):(-2):0\n",
      "relu(x):(-1):0\n",
      "relu(x):(0):0\n",
      "relu(x):(1):1\n",
      "relu(x):(2):2\n",
      "relu(x):(3):3\n",
      "relu(x):(4):4\n",
      "relu(x):(5):5\n",
      "relu(x):(6):6\n",
      "relu(x):(7):7\n",
      "relu(x):(8):8\n",
      "relu(x):(9):9\n"
     ]
    }
   ],
   "source": [
    "for i in range(-10, 10, 1):\n",
    "    print('relu(x):({}):{}'.format(i, relu(i)))"
   ]
  }
 ],
 "metadata": {
  "kernelspec": {
   "display_name": "Python 3",
   "language": "python",
   "name": "python3"
  },
  "language_info": {
   "codemirror_mode": {
    "name": "ipython",
    "version": 3
   },
   "file_extension": ".py",
   "mimetype": "text/x-python",
   "name": "python",
   "nbconvert_exporter": "python",
   "pygments_lexer": "ipython3",
   "version": "3.8.5"
  }
 },
 "nbformat": 4,
 "nbformat_minor": 5
}
